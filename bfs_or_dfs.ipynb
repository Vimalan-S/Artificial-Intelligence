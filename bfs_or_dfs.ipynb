{
 "cells": [
  {
   "cell_type": "code",
   "execution_count": 1,
   "metadata": {},
   "outputs": [],
   "source": [
    "graph = {'Ben': set(['HeatBlast', 'DiamondHead']),\n",
    "         'HeatBlast': set(['DiamondHead', 'XLR8', 'JetRay', 'Ben']),\n",
    "         'DiamondHead': set(['Ben', 'HeatBlast', 'Humongausaur']),\n",
    "         'XLR8': set(['HeatBlast', 'FourArms', 'CannonBolt', 'BrainStorm']),\n",
    "         'FourArms': set(['XLR8', 'CannonBolt', 'GreyMatter']),\n",
    "         'CannonBolt': set(['XLR8', 'FourArms', 'BigChill']),\n",
    "         'GreyMatter': set(['Humongausaur', 'FourArms', 'BigChill']),\n",
    "         'JetRay': set(['HeatBlast', 'BrainStorm', 'BigChill']),\n",
    "         'BrainStorm': set(['XLR8', 'JetRay', 'Humongausaur']),\n",
    "         'Humongausaur': set(['DiamondHead', 'GreyMatter', 'BrainStorm']),\n",
    "         'BigChill': set(['CannonBolt', 'GreyMatter', 'JetRay'])       \n",
    "}\n"
   ]
  },
  {
   "cell_type": "code",
   "execution_count": null,
   "metadata": {},
   "outputs": [],
   "source": [
    "import networkx as nx\n",
    "import matplotlib.pyplot as plt\n"
   ]
  },
  {
   "cell_type": "code",
   "execution_count": null,
   "metadata": {},
   "outputs": [],
   "source": [
    "class GraphVisualization:\n",
    "   \n",
    "    def __init__(self):\n",
    "        self.visual = []\n",
    "          \n",
    "    def addEdge(self, a,  b):\n",
    "        temp = [a, b]\n",
    "        self.visual.append(temp)\n",
    "          \n",
    "    def visualize(self):\n",
    "        G = nx.Graph()\n",
    "        G.add_edges_from(self.visual)\n",
    "        nx.draw_networkx(G, node_color='lightgreen')\n",
    "        plt.show()"
   ]
  },
  {
   "cell_type": "code",
   "execution_count": null,
   "metadata": {},
   "outputs": [],
   "source": [
    "G = GraphVisualization()\n",
    "G.addEdge(0, 2)\n",
    "G.addEdge(1, 2)\n",
    "G.addEdge(1, 3)\n",
    "G.addEdge(5, 3)\n",
    "G.addEdge(3, 4)\n",
    "G.addEdge(1, 0)\n",
    "G.addEdge(9, 2)\n",
    "G.addEdge(1, 7)\n",
    "G.addEdge(8, 3)\n",
    "G.addEdge(5, 10)\n",
    "G.addEdge(6, 4)\n",
    "G.addEdge(1, 3)\n",
    "G.addEdge(10, 7)\n",
    "G.addEdge(4, 5)\n",
    "G.addEdge(8, 9)\n",
    "G.addEdge(7, 8)\n",
    "G.addEdge(9, 6)\n",
    "G.addEdge(10, 6)\n",
    "G.visualize()"
   ]
  },
  {
   "cell_type": "code",
   "execution_count": null,
   "metadata": {},
   "outputs": [],
   "source": [
    "def bfs(graph, start):\n",
    "    visited, queue = [], [start] \n",
    "    while queue:\n",
    "        vertex = queue.pop(0)\n",
    "        if vertex not in visited:\n",
    "            visited.append(vertex)\n",
    "            queue.extend(graph[vertex] - set(visited)) \n",
    "    return visited"
   ]
  },
  {
   "cell_type": "code",
   "execution_count": null,
   "metadata": {},
   "outputs": [],
   "source": [
    "def dfs(graph, start):\n",
    "    visited, stack = [], [start] \n",
    "    while stack:\n",
    "        vertex = stack.pop()\n",
    "        if vertex not in visited:\n",
    "            visited.append(vertex)\n",
    "            stack.extend(graph[vertex] - set(visited)) \n",
    "    return visited"
   ]
  },
  {
   "cell_type": "code",
   "execution_count": null,
   "metadata": {},
   "outputs": [],
   "source": [
    "start = input(\"Enter Start Node: \")\n",
    "\n",
    "print(\"\\nPerforming Breadth-First Search from Start Node.... \\n\", bfs(graph, start))"
   ]
  },
  {
   "cell_type": "code",
   "execution_count": null,
   "metadata": {},
   "outputs": [],
   "source": [
    "print(\"Performing Depth-First Search from Start Node.... \\n\", dfs(graph, start))"
   ]
  },
  {
   "cell_type": "code",
   "execution_count": null,
   "metadata": {},
   "outputs": [],
   "source": [
    "def bfs_paths(graph, start, goal):\n",
    "    queue = [(start, [start])]\n",
    "    while queue:\n",
    "        (vertex, path) = queue.pop(0)\n",
    "        for next in graph[vertex] - set(path):\n",
    "            if next == goal:\n",
    "                yield path + [next]\n",
    "            else:\n",
    "                queue.append((next, path + [next]))"
   ]
  },
  {
   "cell_type": "code",
   "execution_count": null,
   "metadata": {},
   "outputs": [],
   "source": [
    "def dfs_paths(graph, start, goal, path=None):\n",
    "    if path is None:\n",
    "        path = [start]\n",
    "    if start == goal:\n",
    "        yield path\n",
    "    for next in graph[start] - set(path):\n",
    "        yield from dfs_paths(graph, next, goal, path + [next])"
   ]
  },
  {
   "cell_type": "code",
   "execution_count": null,
   "metadata": {},
   "outputs": [],
   "source": [
    "def shortest_bfs_path(graph, start, goal):\n",
    "    try:\n",
    "        return next(bfs_paths(graph, start, goal))\n",
    "    except StopIteration:\n",
    "        return None"
   ]
  },
  {
   "cell_type": "code",
   "execution_count": null,
   "metadata": {},
   "outputs": [],
   "source": [
    "def shortest_dfs_path(graph, start, goal):\n",
    "    try:\n",
    "        return next(dfs_paths(graph, start, goal))\n",
    "    except StopIteration:\n",
    "        return None"
   ]
  },
  {
   "cell_type": "code",
   "execution_count": null,
   "metadata": {},
   "outputs": [],
   "source": [
    "start = input(\"Enter Start Node: \")\n",
    "goal = input(\"Enter Destination Node: \")\n",
    "\n",
    "print(\"\\nShortest Path to reach Destination Node using BFS: \\n\", shortest_bfs_path(graph, start, goal))"
   ]
  },
  {
   "cell_type": "code",
   "execution_count": null,
   "metadata": {},
   "outputs": [],
   "source": [
    "print(\"\\nShortest Path to reach Destination Node using DFS: \\n\", shortest_dfs_path(graph, start, goal))"
   ]
  },
  {
   "cell_type": "code",
   "execution_count": null,
   "metadata": {},
   "outputs": [],
   "source": [
    "if (len(shortest_bfs_path(graph, start, goal)) < len(shortest_dfs_path(graph, start, goal))):\n",
    "  print(\"In order to reach Destination: \",goal, \" quickly, the Omnitrix AI recommends Ben10 to use Breadth-First Search\")\n",
    "else:\n",
    "  print(\"In order to reach Destination: \",goal, \" quickly, the Omnitrix AI recommends Ben10 to use Depth-First Search\")"
   ]
  }
 ],
 "metadata": {
  "kernelspec": {
   "display_name": "Python 3.10.1 64-bit",
   "language": "python",
   "name": "python3"
  },
  "language_info": {
   "codemirror_mode": {
    "name": "ipython",
    "version": 3
   },
   "file_extension": ".py",
   "mimetype": "text/x-python",
   "name": "python",
   "nbconvert_exporter": "python",
   "pygments_lexer": "ipython3",
   "version": "3.10.1"
  },
  "orig_nbformat": 4,
  "vscode": {
   "interpreter": {
    "hash": "270f40dea5d1f5a229a1866a00a7f1d145fb5d24523a0eb20cef7127b3753f29"
   }
  }
 },
 "nbformat": 4,
 "nbformat_minor": 2
}
